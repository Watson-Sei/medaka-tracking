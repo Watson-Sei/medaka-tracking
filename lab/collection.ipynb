{
 "cells": [
  {
   "cell_type": "code",
   "execution_count": null,
   "metadata": {
    "scrolled": true
   },
   "outputs": [],
   "source": [
    "from selenium import webdriver\n",
    "import os \n",
    "import requests\n",
    "import time\n",
    "import base64\n",
    "import urllib.request\n",
    "\n",
    "\n",
    "image_urls = []\n",
    "\n",
    "if __name__ == '__main__':\n",
    "  # Chromeを起動する\n",
    "  driver = webdriver.Chrome()\n",
    "\n",
    "  # Google画像検索にアクセスする\n",
    "  driver.get('https://www.google.co.jp/imghp')\n",
    "\n",
    "  # 検索ボックスに「メダカ」と入力する\n",
    "  search_box = driver.find_element_by_name('q')\n",
    "  search_box.send_keys('メダカ')\n",
    "\n",
    "  # 検索ボタンをクリックする\n",
    "  search_button = driver.find_element_by_class_name('Tg7LZd')\n",
    "  search_button.click()\n",
    "    \n",
    "  for i in range(50):\n",
    "    time.sleep(1)\n",
    "    driver.execute_script(\"window.scrollBy(0, 1000)\")\n",
    "    show_more_button = driver.find_elements_by_class_name('YstHxe')\n",
    "    if (show_more_button[0].get_attribute('style') != \"display: none;\"):\n",
    "        show_more_button[0].click()\n",
    "        \n",
    "  images = driver.find_elements_by_css_selector('img.rg_i')\n",
    "  urls = [image.get_attribute('src') for image in images]\n",
    "    \n",
    "  cwd = os.getcwd()\n",
    "    \n",
    "  if not os.path.exists(f\"{cwd}/images\"):\n",
    "    os.makedirs(f\"{cwd}/images\")\n",
    "  \n",
    "  for i, url in enumerate(urls[:500]):\n",
    "    image_urls.append(url)\n",
    "    # URLのスキーマを確認する\n",
    "    if url.startswith(\"http\"):\n",
    "        urllib.request.urlretrieve(url, f\"{cwd}/images/image{i}.jpg\")\n",
    "    if url.startswith(\"data:image\"):\n",
    "        with open(f\"{cwd}/images/image{i}.jpg\", \"wb\") as f:\n",
    "            f.write(base64.b64decode(url.split(\",\")[1]))\n",
    "    \n",
    "    \n",
    "    \n",
    "  \n",
    "  # Chromeを終了する\n",
    "  driver.quit()\n",
    "  \n",
    "  print(f'{len(image_urls)}枚画像を枚ダウンロードしました。')"
   ]
  },
  {
   "cell_type": "code",
   "execution_count": null,
   "metadata": {},
   "outputs": [],
   "source": []
  }
 ],
 "metadata": {
  "kernelspec": {
   "display_name": "Python 3 (ipykernel)",
   "language": "python",
   "name": "python3"
  },
  "language_info": {
   "codemirror_mode": {
    "name": "ipython",
    "version": 3
   },
   "file_extension": ".py",
   "mimetype": "text/x-python",
   "name": "python",
   "nbconvert_exporter": "python",
   "pygments_lexer": "ipython3",
   "version": "3.11.0"
  },
  "vscode": {
   "interpreter": {
    "hash": "1477d65c14c855f5cb2cf31bcdef48ca0440e19dfb6c715f84e8cf8cb38a3703"
   }
  }
 },
 "nbformat": 4,
 "nbformat_minor": 2
}
